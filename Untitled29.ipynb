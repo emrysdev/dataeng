{
 "cells": [
  {
   "cell_type": "code",
   "execution_count": 1,
   "id": "fa270b36",
   "metadata": {},
   "outputs": [
    {
     "name": "stdout",
     "output_type": "stream",
     "text": [
      "Requirement already satisfied: requests in c:\\users\\bruno\\anaconda3\\lib\\site-packages (2.29.0)\n",
      "Requirement already satisfied: pandas in c:\\users\\bruno\\anaconda3\\lib\\site-packages (1.5.3)\n",
      "Requirement already satisfied: charset-normalizer<4,>=2 in c:\\users\\bruno\\anaconda3\\lib\\site-packages (from requests) (2.0.4)\n",
      "Requirement already satisfied: idna<4,>=2.5 in c:\\users\\bruno\\anaconda3\\lib\\site-packages (from requests) (3.4)\n",
      "Requirement already satisfied: urllib3<1.27,>=1.21.1 in c:\\users\\bruno\\anaconda3\\lib\\site-packages (from requests) (1.26.16)\n",
      "Requirement already satisfied: certifi>=2017.4.17 in c:\\users\\bruno\\anaconda3\\lib\\site-packages (from requests) (2023.7.22)\n",
      "Requirement already satisfied: python-dateutil>=2.8.1 in c:\\users\\bruno\\anaconda3\\lib\\site-packages (from pandas) (2.8.2)\n",
      "Requirement already satisfied: pytz>=2020.1 in c:\\users\\bruno\\anaconda3\\lib\\site-packages (from pandas) (2022.7)\n",
      "Requirement already satisfied: numpy>=1.21.0 in c:\\users\\bruno\\anaconda3\\lib\\site-packages (from pandas) (1.24.3)\n",
      "Requirement already satisfied: six>=1.5 in c:\\users\\bruno\\anaconda3\\lib\\site-packages (from python-dateutil>=2.8.1->pandas) (1.16.0)\n"
     ]
    }
   ],
   "source": [
    "!pip install requests pandas\n"
   ]
  },
  {
   "cell_type": "code",
   "execution_count": 3,
   "id": "133706c9",
   "metadata": {},
   "outputs": [
    {
     "name": "stdout",
     "output_type": "stream",
     "text": [
      "File downloaded successfully.\n"
     ]
    }
   ],
   "source": [
    "import requests\n",
    "\n",
    "# URL to download the data from\n",
    "url = 'http://www.bom.gov.au/climate/data/lists_by_element/stations.txt'\n",
    "\n",
    "# Set a User-Agent header to mimic a browser\n",
    "headers = {\n",
    "    'User-Agent': 'Mozilla/5.0 (Windows NT 10.0; Win64; x64) AppleWebKit/537.36 (KHTML, like Gecko) Chrome/58.0.3029.110 Safari/537.3'\n",
    "}\n",
    "\n",
    "# Send a GET request to download the file with headers\n",
    "response = requests.get(url, headers=headers)\n",
    "\n",
    "# Check if the request was successful (status code 200)\n",
    "if response.status_code == 200:\n",
    "    # Save the content of the file\n",
    "    with open('stations.txt', 'wb') as file:\n",
    "        file.write(response.content)\n",
    "    print(\"File downloaded successfully.\")\n",
    "else:\n",
    "    print(\"Failed to download the file. Status code:\", response.status_code)\n"
   ]
  },
  {
   "cell_type": "code",
   "execution_count": 4,
   "id": "678e9e02",
   "metadata": {},
   "outputs": [
    {
     "data": {
      "text/html": [
       "<div>\n",
       "<style scoped>\n",
       "    .dataframe tbody tr th:only-of-type {\n",
       "        vertical-align: middle;\n",
       "    }\n",
       "\n",
       "    .dataframe tbody tr th {\n",
       "        vertical-align: top;\n",
       "    }\n",
       "\n",
       "    .dataframe thead th {\n",
       "        text-align: right;\n",
       "    }\n",
       "</style>\n",
       "<table border=\"1\" class=\"dataframe\">\n",
       "  <thead>\n",
       "    <tr style=\"text-align: right;\">\n",
       "      <th></th>\n",
       "      <th>Station_ID</th>\n",
       "      <th>Start_Year</th>\n",
       "      <th>End_Year</th>\n",
       "      <th>Lat_Deg</th>\n",
       "      <th>Long_Deg</th>\n",
       "      <th>Lat_Min</th>\n",
       "      <th>Long_Min</th>\n",
       "      <th>Elevation</th>\n",
       "      <th>Station_Name</th>\n",
       "    </tr>\n",
       "  </thead>\n",
       "  <tbody>\n",
       "    <tr>\n",
       "      <th>0</th>\n",
       "      <td>Bureau</td>\n",
       "      <td>of Meteo</td>\n",
       "      <td>rology pr</td>\n",
       "      <td>odu</td>\n",
       "      <td>ct</td>\n",
       "      <td>IDCJMC</td>\n",
       "      <td>0014.</td>\n",
       "      <td>NaN</td>\n",
       "      <td>NaN</td>\n",
       "    </tr>\n",
       "    <tr>\n",
       "      <th>1</th>\n",
       "      <td>Site</td>\n",
       "      <td>Dist</td>\n",
       "      <td>Site name</td>\n",
       "      <td>NaN</td>\n",
       "      <td>NaN</td>\n",
       "      <td>NaN</td>\n",
       "      <td>NaN</td>\n",
       "      <td>NaN</td>\n",
       "      <td>Start     End      L</td>\n",
       "    </tr>\n",
       "    <tr>\n",
       "      <th>2</th>\n",
       "      <td>-------</td>\n",
       "      <td>----- -</td>\n",
       "      <td>---------</td>\n",
       "      <td>---</td>\n",
       "      <td>---</td>\n",
       "      <td>------</td>\n",
       "      <td>------</td>\n",
       "      <td>-----</td>\n",
       "      <td>------- ------- ------- ------</td>\n",
       "    </tr>\n",
       "    <tr>\n",
       "      <th>3</th>\n",
       "      <td>001000</td>\n",
       "      <td>01    K</td>\n",
       "      <td>ARUNJIE</td>\n",
       "      <td>NaN</td>\n",
       "      <td>NaN</td>\n",
       "      <td>NaN</td>\n",
       "      <td>NaN</td>\n",
       "      <td>NaN</td>\n",
       "      <td>1940    1983 -16.29</td>\n",
       "    </tr>\n",
       "    <tr>\n",
       "      <th>4</th>\n",
       "      <td>001001</td>\n",
       "      <td>01    O</td>\n",
       "      <td>OMBULGURR</td>\n",
       "      <td>I</td>\n",
       "      <td>NaN</td>\n",
       "      <td>NaN</td>\n",
       "      <td>NaN</td>\n",
       "      <td>NaN</td>\n",
       "      <td>1914    2012 -15.18</td>\n",
       "    </tr>\n",
       "  </tbody>\n",
       "</table>\n",
       "</div>"
      ],
      "text/plain": [
       "  Station_ID Start_Year   End_Year Lat_Deg Long_Deg Lat_Min Long_Min  \\\n",
       "0     Bureau   of Meteo  rology pr     odu       ct  IDCJMC    0014.   \n",
       "1       Site       Dist  Site name     NaN      NaN     NaN      NaN   \n",
       "2    -------    ----- -  ---------     ---      ---  ------   ------   \n",
       "3     001000    01    K    ARUNJIE     NaN      NaN     NaN      NaN   \n",
       "4     001001    01    O  OMBULGURR       I      NaN     NaN      NaN   \n",
       "\n",
       "  Elevation                    Station_Name  \n",
       "0       NaN                             NaN  \n",
       "1       NaN            Start     End      L  \n",
       "2     -----  ------- ------- ------- ------  \n",
       "3       NaN             1940    1983 -16.29  \n",
       "4       NaN             1914    2012 -15.18  "
      ]
     },
     "execution_count": 4,
     "metadata": {},
     "output_type": "execute_result"
    }
   ],
   "source": [
    "import pandas as pd\n",
    "\n",
    "# Define the column widths based on the structure of the file\n",
    "column_widths = [7, 8, 9, 3, 3, 6, 6, 5, 30]\n",
    "\n",
    "# Define column names for the data\n",
    "column_names = [\"Station_ID\", \"Start_Year\", \"End_Year\", \"Lat_Deg\", \"Long_Deg\", \"Lat_Min\", \"Long_Min\", \"Elevation\", \"Station_Name\"]\n",
    "\n",
    "# Read the fixed-width formatted file\n",
    "bom_stations = pd.read_fwf('stations.txt', widths=column_widths, header=None, names=column_names)\n",
    "\n",
    "# Preview the first few rows of the dataset\n",
    "bom_stations.head()\n"
   ]
  },
  {
   "cell_type": "code",
   "execution_count": 6,
   "id": "aff39b7e",
   "metadata": {},
   "outputs": [
    {
     "name": "stdout",
     "output_type": "stream",
     "text": [
      "Data has been saved to 'bom_stations.csv'.\n"
     ]
    }
   ],
   "source": [
    "# Save the data to a CSV file\n",
    "bom_stations.to_csv('C:/Users/bruno/Documents/bom_stations.csv', index=False)\n",
    "\n",
    "print(\"Data has been saved to 'bom_stations.csv'.\")\n",
    "\n"
   ]
  },
  {
   "cell_type": "code",
   "execution_count": null,
   "id": "803d86e4",
   "metadata": {},
   "outputs": [],
   "source": []
  }
 ],
 "metadata": {
  "kernelspec": {
   "display_name": "Python 3 (ipykernel)",
   "language": "python",
   "name": "python3"
  },
  "language_info": {
   "codemirror_mode": {
    "name": "ipython",
    "version": 3
   },
   "file_extension": ".py",
   "mimetype": "text/x-python",
   "name": "python",
   "nbconvert_exporter": "python",
   "pygments_lexer": "ipython3",
   "version": "3.11.3"
  }
 },
 "nbformat": 4,
 "nbformat_minor": 5
}
